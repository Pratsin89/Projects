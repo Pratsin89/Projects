{
 "cells": [
  {
   "cell_type": "markdown",
   "id": "d0bf3f06-e8eb-4006-8f62-09000c1d336b",
   "metadata": {},
   "source": [
    "# Data Science Tools and Ecosystem"
   ]
  },
  {
   "cell_type": "markdown",
   "id": "445da389-b05a-4be6-a30f-d5e4ee403016",
   "metadata": {},
   "source": [
    "In this notebook, Data Science Tools and Ecosystem are summarized"
   ]
  },
  {
   "cell_type": "markdown",
   "id": "89b0f5f1-a096-4bdb-99e6-69ca6a710b69",
   "metadata": {},
   "source": [
    "**Objectives:**\n",
    "* Create Headings\n",
    "* List Popular Languages in Data Science\n",
    "* List commonly used Libraries in Data Science\n",
    "* Create a Single Column table\n",
    "* Give Few Examples of evaluating Aithmetic Expressions in Python"
   ]
  },
  {
   "cell_type": "markdown",
   "id": "3aff8fb7-a447-455b-b406-285c02408f2d",
   "metadata": {},
   "source": [
    "Some of the popular languages that Data Scientists use are:\n",
    "1. Python\n",
    "2. R\n",
    "3. SQL\n",
    "4. JAVA\n",
    "5. C++"
   ]
  },
  {
   "cell_type": "markdown",
   "id": "35df2a43-11bd-4fb9-b080-a3e483c6387e",
   "metadata": {},
   "source": [
    "Some of the commonly uses libraries used by Data Scientists include:\n",
    "1. Pandas\n",
    "2. NumPy\n",
    "3. Matplotlib\n",
    "4. Sickit-Learn\n",
    "5. TensorFlow\n",
    "6. ggplot"
   ]
  },
  {
   "cell_type": "markdown",
   "id": "5a6c6e38-da1a-4819-bedb-39cf883da861",
   "metadata": {},
   "source": [
    "| Data Science Tools |\n",
    "| ------------------ |\n",
    "| JupyterIDE |\n",
    "| RStudio |\n",
    "| Spyder |"
   ]
  },
  {
   "cell_type": "markdown",
   "id": "24ba3660-8110-4e8c-a376-9ec2ed799dc8",
   "metadata": {},
   "source": [
    "### Below are a few examples of evaluating arithmetic expressions in Python"
   ]
  },
  {
   "cell_type": "code",
   "execution_count": 2,
   "id": "23850caa-a5a4-40eb-ab99-a16c99088cd6",
   "metadata": {},
   "outputs": [
    {
     "data": {
      "text/plain": [
       "17"
      ]
     },
     "execution_count": 2,
     "metadata": {},
     "output_type": "execute_result"
    }
   ],
   "source": [
    "#This is a simple arithmetic expression to multiply then add integers\n",
    "(3*4)+5"
   ]
  },
  {
   "cell_type": "code",
   "execution_count": 7,
   "id": "1ba1b194-45b7-4216-abe2-b54e25f6a9fb",
   "metadata": {},
   "outputs": [
    {
     "data": {
      "text/plain": [
       "3.3333333333333335"
      ]
     },
     "execution_count": 7,
     "metadata": {},
     "output_type": "execute_result"
    }
   ],
   "source": [
    "#This will convert 200 minutes to hours by dividing by 60\n",
    "200/60 "
   ]
  },
  {
   "cell_type": "markdown",
   "id": "c5e2ee91-68b5-4436-92fb-4d8904ebeb31",
   "metadata": {},
   "source": [
    "## Author\n",
    "Pratyush Sinha"
   ]
  },
  {
   "cell_type": "code",
   "execution_count": null,
   "id": "308e5cfb-8243-4424-ac3b-3720cd2e12f3",
   "metadata": {},
   "outputs": [],
   "source": []
  }
 ],
 "metadata": {
  "kernelspec": {
   "display_name": "Python [conda env:base] *",
   "language": "python",
   "name": "conda-base-py"
  },
  "language_info": {
   "codemirror_mode": {
    "name": "ipython",
    "version": 3
   },
   "file_extension": ".py",
   "mimetype": "text/x-python",
   "name": "python",
   "nbconvert_exporter": "python",
   "pygments_lexer": "ipython3",
   "version": "3.13.5"
  }
 },
 "nbformat": 4,
 "nbformat_minor": 5
}
